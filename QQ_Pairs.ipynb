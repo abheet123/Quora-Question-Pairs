{
  "nbformat": 4,
  "nbformat_minor": 0,
  "metadata": {
    "colab": {
      "name": "QQ_Pairs.ipynb",
      "provenance": [],
      "collapsed_sections": []
    },
    "kernelspec": {
      "name": "python3",
      "display_name": "Python 3"
    }
  },
  "cells": [
    {
      "cell_type": "code",
      "metadata": {
        "id": "cRlwqjgMUN4J"
      },
      "source": [
        "import pandas as pd\r\n",
        "import numpy as np"
      ],
      "execution_count": 2,
      "outputs": []
    },
    {
      "cell_type": "code",
      "metadata": {
        "colab": {
          "base_uri": "https://localhost:8080/"
        },
        "id": "UjZwAwKKUpdD",
        "outputId": "968467e4-42e4-4c6a-d296-8dbd40cc7442"
      },
      "source": [
        "from google.colab import drive\r\n",
        "drive.mount('/content/gdrive')"
      ],
      "execution_count": 3,
      "outputs": [
        {
          "output_type": "stream",
          "text": [
            "Mounted at /content/gdrive\n"
          ],
          "name": "stdout"
        }
      ]
    },
    {
      "cell_type": "code",
      "metadata": {
        "id": "XP08ywDgMiCe"
      },
      "source": [
        "file_source = 'gdrive/MyDrive/Kaggle/Quora_Q_Pairs/'"
      ],
      "execution_count": 4,
      "outputs": []
    },
    {
      "cell_type": "code",
      "metadata": {
        "id": "CMa0oNvKUqhD"
      },
      "source": [
        "train_df = pd.read_csv('gdrive/MyDrive/Kaggle/Quora_Q_Pairs/train.csv')"
      ],
      "execution_count": 59,
      "outputs": []
    },
    {
      "cell_type": "code",
      "metadata": {
        "colab": {
          "base_uri": "https://localhost:8080/"
        },
        "id": "wHCrWwlBWB2A",
        "outputId": "533643f2-f192-4c4d-9561-4b973609c9b3"
      },
      "source": [
        "test_df = pd.read_csv('gdrive/MyDrive/Kaggle/Quora_Q_Pairs/test.csv')"
      ],
      "execution_count": 60,
      "outputs": [
        {
          "output_type": "stream",
          "text": [
            "/usr/local/lib/python3.6/dist-packages/IPython/core/interactiveshell.py:2718: DtypeWarning: Columns (0) have mixed types.Specify dtype option on import or set low_memory=False.\n",
            "  interactivity=interactivity, compiler=compiler, result=result)\n"
          ],
          "name": "stderr"
        }
      ]
    },
    {
      "cell_type": "code",
      "metadata": {
        "colab": {
          "base_uri": "https://localhost:8080/",
          "height": 204
        },
        "id": "yPIYLywGU_6e",
        "outputId": "e9de75ca-4dcd-4e61-92fe-4560f91594b5"
      },
      "source": [
        "test_df.head()"
      ],
      "execution_count": 14,
      "outputs": [
        {
          "output_type": "execute_result",
          "data": {
            "text/html": [
              "<div>\n",
              "<style scoped>\n",
              "    .dataframe tbody tr th:only-of-type {\n",
              "        vertical-align: middle;\n",
              "    }\n",
              "\n",
              "    .dataframe tbody tr th {\n",
              "        vertical-align: top;\n",
              "    }\n",
              "\n",
              "    .dataframe thead th {\n",
              "        text-align: right;\n",
              "    }\n",
              "</style>\n",
              "<table border=\"1\" class=\"dataframe\">\n",
              "  <thead>\n",
              "    <tr style=\"text-align: right;\">\n",
              "      <th></th>\n",
              "      <th>test_id</th>\n",
              "      <th>question1</th>\n",
              "      <th>question2</th>\n",
              "    </tr>\n",
              "  </thead>\n",
              "  <tbody>\n",
              "    <tr>\n",
              "      <th>0</th>\n",
              "      <td>0</td>\n",
              "      <td>How does the Surface Pro himself 4 compare wit...</td>\n",
              "      <td>Why did Microsoft choose core m3 and not core ...</td>\n",
              "    </tr>\n",
              "    <tr>\n",
              "      <th>1</th>\n",
              "      <td>1</td>\n",
              "      <td>Should I have a hair transplant at age 24? How...</td>\n",
              "      <td>How much cost does hair transplant require?</td>\n",
              "    </tr>\n",
              "    <tr>\n",
              "      <th>2</th>\n",
              "      <td>2</td>\n",
              "      <td>What but is the best way to send money from Ch...</td>\n",
              "      <td>What you send money to China?</td>\n",
              "    </tr>\n",
              "    <tr>\n",
              "      <th>3</th>\n",
              "      <td>3</td>\n",
              "      <td>Which food not emulsifiers?</td>\n",
              "      <td>What foods fibre?</td>\n",
              "    </tr>\n",
              "    <tr>\n",
              "      <th>4</th>\n",
              "      <td>4</td>\n",
              "      <td>How \"aberystwyth\" start reading?</td>\n",
              "      <td>How their can I start reading?</td>\n",
              "    </tr>\n",
              "  </tbody>\n",
              "</table>\n",
              "</div>"
            ],
            "text/plain": [
              "  test_id  ...                                          question2\n",
              "0       0  ...  Why did Microsoft choose core m3 and not core ...\n",
              "1       1  ...        How much cost does hair transplant require?\n",
              "2       2  ...                      What you send money to China?\n",
              "3       3  ...                                  What foods fibre?\n",
              "4       4  ...                     How their can I start reading?\n",
              "\n",
              "[5 rows x 3 columns]"
            ]
          },
          "metadata": {
            "tags": []
          },
          "execution_count": 14
        }
      ]
    },
    {
      "cell_type": "code",
      "metadata": {
        "id": "YsrAKU0VX1cU"
      },
      "source": [
        "from time import time\r\n",
        "import pandas as pd\r\n",
        "import numpy as np\r\n",
        "from gensim.models import KeyedVectors\r\n",
        "import re\r\n",
        "from nltk.corpus import stopwords\r\n",
        "from sklearn.model_selection import train_test_split\r\n",
        "import matplotlib.pyplot as plt\r\n",
        "import seaborn as sns\r\n",
        "\r\n",
        "import itertools\r\n",
        "import datetime\r\n",
        "\r\n",
        "from keras.preprocessing.sequence import pad_sequences\r\n",
        "from keras.models import Model\r\n",
        "from keras.layers import Input, Embedding, LSTM, Lambda\r\n",
        "import keras.backend as K\r\n",
        "from keras.optimizers import Adadelta\r\n",
        "from keras.callbacks import ModelCheckpoint\r\n",
        "import keras"
      ],
      "execution_count": 20,
      "outputs": []
    },
    {
      "cell_type": "code",
      "metadata": {
        "colab": {
          "base_uri": "https://localhost:8080/"
        },
        "id": "MpGy_sOVZB2Z",
        "outputId": "88af9ca6-eef9-4bd5-d8e5-4b8c73dbfdcb"
      },
      "source": [
        "import gensim.downloader as api\r\n",
        "\r\n",
        "wv = api.load('word2vec-google-news-300')\r\n",
        "\r\n",
        "wv.save(file_source + '/vectors.kv')"
      ],
      "execution_count": 7,
      "outputs": [
        {
          "output_type": "stream",
          "text": [
            "[=================================================-] 99.6% 1656.3/1662.8MB downloaded\n"
          ],
          "name": "stdout"
        }
      ]
    },
    {
      "cell_type": "code",
      "metadata": {
        "id": "_Yk_6IlCiNk9"
      },
      "source": [
        "from gensim.models import KeyedVectors\r\n",
        "\r\n",
        "\r\n",
        "reloaded_word_vectors = KeyedVectors.load(file_source + '/vectors.kv')"
      ],
      "execution_count": 6,
      "outputs": []
    },
    {
      "cell_type": "code",
      "metadata": {
        "id": "6r_vAJplb0ay"
      },
      "source": [
        "# a\r\n",
        "wv = reloaded_word_vectors"
      ],
      "execution_count": 7,
      "outputs": []
    },
    {
      "cell_type": "code",
      "metadata": {
        "id": "VEZWwHR8e3fc"
      },
      "source": [
        "import nltk"
      ],
      "execution_count": 25,
      "outputs": []
    },
    {
      "cell_type": "code",
      "metadata": {
        "colab": {
          "base_uri": "https://localhost:8080/"
        },
        "id": "cpQJfViGe_1X",
        "outputId": "96439e21-cc6c-4bf1-c418-65d36fc944b7"
      },
      "source": [
        "nltk.download('stopwords')\r\n",
        "nltk.download('wordnet')"
      ],
      "execution_count": 26,
      "outputs": [
        {
          "output_type": "stream",
          "text": [
            "[nltk_data] Downloading package stopwords to /root/nltk_data...\n",
            "[nltk_data]   Package stopwords is already up-to-date!\n"
          ],
          "name": "stdout"
        },
        {
          "output_type": "execute_result",
          "data": {
            "text/plain": [
              "True"
            ]
          },
          "metadata": {
            "tags": []
          },
          "execution_count": 26
        }
      ]
    },
    {
      "cell_type": "code",
      "metadata": {
        "id": "6ytcsMH6ezRh"
      },
      "source": [
        "# stops = set(stopwords.words('english'))\r\n",
        "wh_words = ['who', 'what', 'when', 'why', 'how', 'which', 'where', 'whom']\r\n",
        "stops = set(stopwords.words('english'))\r\n",
        "for word in wh_words:\r\n",
        "    stops.remove(word)"
      ],
      "execution_count": 53,
      "outputs": []
    },
    {
      "cell_type": "code",
      "metadata": {
        "id": "xkhiiO4JcAyO"
      },
      "source": [
        "# stops = set(stopwords.words('english'))\r\n",
        "\r\n",
        "def text_cleanup(text,lemmatization = True):\r\n",
        "    text = str(text)\r\n",
        "    text = text.lower()\r\n",
        "\r\n",
        "    # Clean the text\r\n",
        "    text = re.sub(r\"[^A-Za-z0-9^,!.\\/'+-=]\", \" \", text)\r\n",
        "    text = re.sub(r\"what's\", \"what is \", text)\r\n",
        "    text = re.sub(r\"\\'s\", \" \", text)\r\n",
        "    text = re.sub(r\"\\'ve\", \" have \", text)\r\n",
        "    text = re.sub(r\"can't\", \"cannot \", text)\r\n",
        "    text = re.sub(r\"n't\", \" not \", text)\r\n",
        "    text = re.sub(r\"i'm\", \"i am \", text)\r\n",
        "    text = re.sub(r\"\\'re\", \" are \", text)\r\n",
        "    text = re.sub(r\"\\'d\", \" would \", text)\r\n",
        "    text = re.sub(r\"\\'ll\", \" will \", text)\r\n",
        "    text = re.sub(r\",\", \" \", text)\r\n",
        "    text = re.sub(r\"\\.\", \" \", text)\r\n",
        "    text = re.sub(r\"!\", \" ! \", text)\r\n",
        "    text = re.sub(r\"\\/\", \" \", text)\r\n",
        "    # text = re.sub(r\"\\^\", \" ^ \", text)\r\n",
        "    text = re.sub(r\"\\+\", \" + \", text)\r\n",
        "    text = re.sub(r\"\\-\", \" - \", text)\r\n",
        "    text = re.sub(r\"\\=\", \" = \", text)\r\n",
        "    text = re.sub(r\"'\", \" \", text)\r\n",
        "    text = re.sub(r\"(\\d+)(k)\", r\"\\g<1>000\", text)\r\n",
        "    text = re.sub(r\":\", \" : \", text)\r\n",
        "    text = text.split()\r\n",
        "\r\n",
        "    if lemmatization == True:\r\n",
        "        lem = WordNetLemmatizer()\r\n",
        "        corpus = [lem.lemmatize(x, pos = 'v') for x in text]\r\n",
        "\r\n",
        "    return text"
      ],
      "execution_count": 58,
      "outputs": []
    },
    {
      "cell_type": "code",
      "metadata": {
        "colab": {
          "base_uri": "https://localhost:8080/"
        },
        "id": "ncrHB9k9FOCd",
        "outputId": "49b027f8-39b8-4650-a1d4-bbdf20a8e1d7"
      },
      "source": [
        ""
      ],
      "execution_count": 28,
      "outputs": [
        {
          "output_type": "stream",
          "text": [
            "[nltk_data] Downloading package wordnet to /root/nltk_data...\n",
            "[nltk_data]   Unzipping corpora/wordnet.zip.\n"
          ],
          "name": "stdout"
        },
        {
          "output_type": "execute_result",
          "data": {
            "text/plain": [
              "True"
            ]
          },
          "metadata": {
            "tags": []
          },
          "execution_count": 28
        }
      ]
    },
    {
      "cell_type": "code",
      "metadata": {
        "id": "s5QWc0EoBDzM"
      },
      "source": [
        "# from nltk.stem.porter import PorterStemmer \r\n",
        "# from nltk.stem.snowball import SnowballStemmer\r\n",
        "from nltk.stem.wordnet import WordNetLemmatizer\r\n"
      ],
      "execution_count": 22,
      "outputs": []
    },
    {
      "cell_type": "code",
      "metadata": {
        "id": "0sLKdVpTfvPk"
      },
      "source": [
        "\r\n",
        "# Prepare embedding\r\n",
        "vocabulary = dict()\r\n",
        "inverse_vocabulary = ['<unk>']  # '<unk>' will never be used, it is only a placeholder for the [0, 0, ....0] embedding"
      ],
      "execution_count": 55,
      "outputs": []
    },
    {
      "cell_type": "code",
      "metadata": {
        "id": "3lgBi9Mwf1Hs"
      },
      "source": [
        "word2vec  = wv"
      ],
      "execution_count": 56,
      "outputs": []
    },
    {
      "cell_type": "code",
      "metadata": {
        "id": "-WrjyYxLDqcy"
      },
      "source": [
        "questions_cols = ['question1', 'question2']\r\n",
        "\r\n",
        "for dataset in [train_df, test_df]:\r\n",
        "    for index, row in dataset.iterrows():\r\n",
        "\r\n",
        "        for question in questions_cols:\r\n",
        "\r\n",
        "            for word in text_cleanup(row[question]):\r\n",
        "\r\n",
        "                if word in stops and word not in word2vec.vocab:\r\n",
        "                    continue\r\n",
        "\r\n",
        "                if word not in vocabulary:\r\n",
        "                    vocabulary[word] = len(inverse_vocabulary)\r\n",
        "                    q2n.append(len(inverse_vocabulary))\r\n",
        "                    inverse_vocabulary.append(word)\r\n",
        "                else:\r\n",
        "                    q2n.append(vocabulary[word])\r\n",
        "\r\n",
        "            dataset.at[index, question] =  q2n\r\n",
        "            # break\r\n",
        "        # break\r\n",
        "    # break\r\n",
        "            # , q2n)"
      ],
      "execution_count": 61,
      "outputs": []
    },
    {
      "cell_type": "code",
      "metadata": {
        "id": "QZFqXHN7KKXR"
      },
      "source": [
        "import pickle\r\n",
        "# Dump processed list to file for future re-use\r\n",
        "with open(file_source + '/train_df', 'wb') as fp:\r\n",
        "    pickle.dump(train_df, fp)\r\n",
        "with open(file_source + '/test_df', 'wb') as fp:\r\n",
        "    pickle.dump(test_df, fp)\r\n",
        "\r\n",
        "\r\n",
        "# Read back processed list from file at a later time\r\n",
        "# with open (file_source + '/outfile', 'rb') as fp:\r\n",
        "#     all_corpus = pickle.load(fp)"
      ],
      "execution_count": 62,
      "outputs": []
    },
    {
      "cell_type": "code",
      "metadata": {
        "colab": {
          "base_uri": "https://localhost:8080/"
        },
        "id": "ZTBgbDYPggz_",
        "outputId": "1acc31e4-2a72-456b-ce9b-2a2f22fe3eec"
      },
      "source": [
        "train_df.shape,test_df.shape\r\n",
        "# ((404290, 6), (3563475, 3))"
      ],
      "execution_count": 61,
      "outputs": [
        {
          "output_type": "execute_result",
          "data": {
            "text/plain": [
              "((404290, 6), (3563475, 3))"
            ]
          },
          "metadata": {
            "tags": []
          },
          "execution_count": 61
        }
      ]
    },
    {
      "cell_type": "code",
      "metadata": {
        "id": "xlLJsEO4f6pG"
      },
      "source": [
        "embedding_dim = 300\r\n",
        "embeddings = 1 * np.random.randn(len(vocabulary) + 1, embedding_dim) \r\n",
        "embeddings[0] = 0\r\n",
        "\r\n",
        "for word, index in vocabulary.items():\r\n",
        "    if word in word2vec.vocab:\r\n",
        "        embeddings[index] = word2vec.word_vec(word)"
      ],
      "execution_count": 63,
      "outputs": []
    },
    {
      "cell_type": "code",
      "metadata": {
        "id": "jVfLqpRSg-ay"
      },
      "source": [
        "max_seq_length = max(train_df.question1.map(lambda x: len(x)).max(),\r\n",
        "                     train_df.question2.map(lambda x: len(x)).max(),\r\n",
        "                     test_df.question1.map(lambda x: len(x)).max(),\r\n",
        "                     test_df.question2.map(lambda x: len(x)).max())\r\n",
        "\r\n",
        "# Split to train validation\r\n",
        "validation_size = 40000\r\n",
        "training_size = len(train_df) - validation_size\r\n",
        "\r\n",
        "X = train_df[questions_cols]\r\n",
        "Y = train_df['is_duplicate']\r\n",
        "\r\n",
        "X_train, X_validation, Y_train, Y_validation = train_test_split(X, Y, test_size=validation_size)\r\n",
        "\r\n",
        "X_train = {'left': X_train.question1, 'right': X_train.question2}\r\n",
        "X_validation = {'left': X_validation.question1, 'right': X_validation.question2}\r\n",
        "X_test = {'left': test_df.question1, 'right': test_df.question2}\r\n",
        "\r\n",
        "Y_train = Y_train.values\r\n",
        "Y_validation = Y_validation.values\r\n",
        "\r\n",
        "for dataset, side in itertools.product([X_train, X_validation], ['left', 'right']):\r\n",
        "    dataset[side] = pad_sequences(dataset[side], maxlen=max_seq_length)\r\n",
        "\r\n",
        "# Make sure everything is ok\r\n",
        "assert X_train['left'].shape == X_train['right'].shape\r\n",
        "assert len(X_train['left']) == len(Y_train)"
      ],
      "execution_count": 64,
      "outputs": []
    },
    {
      "cell_type": "code",
      "metadata": {
        "id": "tf4tpOKsm5bm"
      },
      "source": [
        "n_hidden = 50\r\n",
        "batch_size = 512\r\n",
        "n_epoch = 3\r\n",
        "\r\n",
        "def exponent_neg_manhattan_distance(left, right):\r\n",
        "    return K.exp(-K.sum(K.abs(left-right), axis=1, keepdims=True))\r\n",
        "\r\n",
        "left_input = Input(shape=(max_seq_length,), dtype='int32')\r\n",
        "right_input = Input(shape=(max_seq_length,), dtype='int32')\r\n",
        "\r\n",
        "embedding_layer = Embedding(len(embeddings), embedding_dim, weights=[embeddings], input_length=max_seq_length, trainable=False)\r\n",
        "\r\n",
        "encoded_left = embedding_layer(left_input)\r\n",
        "encoded_right = embedding_layer(right_input)\r\n",
        "\r\n",
        "shared_lstm = LSTM(n_hidden)\r\n",
        "\r\n",
        "left_output = shared_lstm(encoded_left)\r\n",
        "right_output = shared_lstm(encoded_right)\r\n",
        "\r\n",
        "malstm_distance = Lambda(function=lambda x: exponent_neg_manhattan_distance(x[0], x[1]),output_shape=lambda x: (x[0][0], 1))([left_output, right_output])\r\n",
        "\r\n",
        "# logistic_layer = keras.layers.Dense(1, input_shape=(1,), activation='sigmoid')\r\n",
        "\r\n",
        "malstm = Model([left_input, right_input], [malstm_distance])"
      ],
      "execution_count": 65,
      "outputs": []
    },
    {
      "cell_type": "code",
      "metadata": {
        "id": "sdh5fARtv6mU"
      },
      "source": [
        "# lr_schedule = keras.callbacks.LearningRateScheduler(\r\n",
        "#     lambda epoch: 1e-2 * 10**(epoch))\r\n",
        "# optimizer_Adam_updated = keras.optimizers.Adam(learning_rate=1e-2)\r\n",
        "# # keras.optimizers.SGD(lr=1e-8, momentum=0.9)\r\n",
        "\r\n",
        "# # filepath=file_source + \"/weights-improvement-deca-{epoch:02d}-{val_accuracy:.2f}.hdf5\"\r\n",
        "# # checkpoint = ModelCheckpoint(filepath, monitor='val_accuracy', verbose=1, save_best_only=True, mode='max')\r\n",
        "# # callbacks_list = [checkpoint,lr_schedule]\r\n",
        "# malstm.compile(loss=\"mse\", optimizer=optimizer_Adam_updated,metrics=['accuracy'])\r\n",
        "# malstm_trained = malstm.fit([X_train['left'], X_train['right']], Y_train, batch_size=batch_size, epochs=100,\r\n",
        "#                             validation_data=([X_validation['left'], X_validation['right']], Y_validation),callbacks = lr_schedule)"
      ],
      "execution_count": null,
      "outputs": []
    },
    {
      "cell_type": "code",
      "metadata": {
        "id": "IwJuFUBWy9mP"
      },
      "source": [
        "# lr_schedule = keras.optimizers.schedules.ExponentialDecay(\r\n",
        "#     initial_learning_rate=1e-2,\r\n",
        "#     decay_steps=10000,\r\n",
        "#     decay_rate=0.9)\r\n",
        "\r\n",
        "optimizer_Adam = keras.optimizers.Adam(learning_rate=0.1)"
      ],
      "execution_count": 67,
      "outputs": []
    },
    {
      "cell_type": "code",
      "metadata": {
        "id": "GGtQOvj9MbjC"
      },
      "source": [
        "filepath=file_source + \"/weights-improvement-{epoch:02d}-{val_accuracy:.2f}.hdf5\"\r\n",
        "checkpoint = ModelCheckpoint(filepath, monitor='val_accuracy', verbose=1, save_best_only=True, mode='max')\r\n",
        "callbacks_list = [checkpoint]"
      ],
      "execution_count": 32,
      "outputs": []
    },
    {
      "cell_type": "code",
      "metadata": {
        "colab": {
          "base_uri": "https://localhost:8080/"
        },
        "id": "d6nhb4Jty9Gf",
        "outputId": "29382527-7aa8-4955-c9ff-37e064b71d92"
      },
      "source": [
        "# optimizer = Adadelta(learning_rate=0.01)\r\n",
        "\r\n",
        "malstm.compile(loss='mean_squared_error', optimizer=optimizer_Adam, metrics=['accuracy'])\r\n",
        "\r\n",
        "# Start training\r\n",
        "training_start_time = time()\r\n",
        "\r\n",
        "malstm_trained = malstm.fit([X_train['left'], X_train['right']], Y_train, batch_size=batch_size, epochs=n_epoch,\r\n",
        "                            validation_data=([X_validation['left'], X_validation['right']], Y_validation),callbacks = callbacks_list)\r\n",
        "\r\n",
        "print(\"Training time finished.\\n{} epochs in {}\".format(n_epoch, datetime.timedelta(seconds=time()-training_start_time)))"
      ],
      "execution_count": 33,
      "outputs": [
        {
          "output_type": "stream",
          "text": [
            "Epoch 1/10\n",
            "712/712 [==============================] - 1538s 2s/step - loss: 0.1708 - accuracy: 0.7553 - val_loss: 0.1435 - val_accuracy: 0.8003\n",
            "\n",
            "Epoch 00001: val_accuracy improved from -inf to 0.80032, saving model to gdrive/MyDrive/Kaggle/Quora_Q_Pairs/weights-improvement-01-0.80.hdf5\n",
            "Epoch 2/10\n",
            "712/712 [==============================] - 1511s 2s/step - loss: 0.1384 - accuracy: 0.8101 - val_loss: 0.1387 - val_accuracy: 0.8065\n",
            "\n",
            "Epoch 00002: val_accuracy improved from 0.80032 to 0.80650, saving model to gdrive/MyDrive/Kaggle/Quora_Q_Pairs/weights-improvement-02-0.81.hdf5\n",
            "Epoch 3/10\n",
            "712/712 [==============================] - 1462s 2s/step - loss: 0.1316 - accuracy: 0.8215 - val_loss: 0.1344 - val_accuracy: 0.8143\n",
            "\n",
            "Epoch 00003: val_accuracy improved from 0.80650 to 0.81430, saving model to gdrive/MyDrive/Kaggle/Quora_Q_Pairs/weights-improvement-03-0.81.hdf5\n",
            "Epoch 4/10\n",
            "712/712 [==============================] - 1470s 2s/step - loss: 0.1259 - accuracy: 0.8303 - val_loss: 0.1324 - val_accuracy: 0.8166\n",
            "\n",
            "Epoch 00004: val_accuracy improved from 0.81430 to 0.81662, saving model to gdrive/MyDrive/Kaggle/Quora_Q_Pairs/weights-improvement-04-0.82.hdf5\n",
            "Epoch 5/10\n",
            "712/712 [==============================] - 1467s 2s/step - loss: 0.1223 - accuracy: 0.8360 - val_loss: 0.1316 - val_accuracy: 0.8173\n",
            "\n",
            "Epoch 00005: val_accuracy improved from 0.81662 to 0.81727, saving model to gdrive/MyDrive/Kaggle/Quora_Q_Pairs/weights-improvement-05-0.82.hdf5\n",
            "Epoch 6/10\n",
            "712/712 [==============================] - 1473s 2s/step - loss: 0.1200 - accuracy: 0.8405 - val_loss: 0.1305 - val_accuracy: 0.8204\n",
            "\n",
            "Epoch 00006: val_accuracy improved from 0.81727 to 0.82040, saving model to gdrive/MyDrive/Kaggle/Quora_Q_Pairs/weights-improvement-06-0.82.hdf5\n",
            "Epoch 7/10\n",
            "712/712 [==============================] - 1509s 2s/step - loss: 0.1182 - accuracy: 0.8438 - val_loss: 0.1426 - val_accuracy: 0.7985\n",
            "\n",
            "Epoch 00007: val_accuracy did not improve from 0.82040\n",
            "Epoch 8/10\n",
            "712/712 [==============================] - 1489s 2s/step - loss: 0.1290 - accuracy: 0.8244 - val_loss: 0.1351 - val_accuracy: 0.8123\n",
            "\n",
            "Epoch 00008: val_accuracy did not improve from 0.82040\n",
            "Epoch 9/10\n",
            "712/712 [==============================] - 1484s 2s/step - loss: 0.1205 - accuracy: 0.8385 - val_loss: 0.1322 - val_accuracy: 0.8154\n",
            "\n",
            "Epoch 00009: val_accuracy did not improve from 0.82040\n",
            "Epoch 10/10\n",
            "712/712 [==============================] - 1490s 2s/step - loss: 0.1172 - accuracy: 0.8445 - val_loss: 0.1309 - val_accuracy: 0.8180\n",
            "\n",
            "Epoch 00010: val_accuracy did not improve from 0.82040\n",
            "Training time finished.\n",
            "10 epochs in 4:08:16.922266\n"
          ],
          "name": "stdout"
        }
      ]
    },
    {
      "cell_type": "code",
      "metadata": {
        "id": "rmztvDOUWcOc"
      },
      "source": [
        "# filepath=file_source + \"/weights-improvement-second_training-{epoch:02d}-{val_accuracy:.2f}.hdf5\"\r\n",
        "# checkpoint = ModelCheckpoint(filepath, monitor='val_accuracy', verbose=1, save_best_only=True, mode='max')\r\n",
        "# callbacks_list = [checkpoint]"
      ],
      "execution_count": null,
      "outputs": []
    },
    {
      "cell_type": "code",
      "metadata": {
        "colab": {
          "base_uri": "https://localhost:8080/",
          "height": 573
        },
        "id": "OfhINRJQm-UN",
        "outputId": "4944fab2-5af5-42d9-9216-cdb7ed9d7583"
      },
      "source": [
        "# Plot accuracy\r\n",
        "plt.plot(malstm_trained.history['accuracy'])\r\n",
        "plt.plot(malstm_trained.history['val_accuracy'])\r\n",
        "plt.title('Model Accuracy')\r\n",
        "plt.ylabel('Accuracy')\r\n",
        "plt.xlabel('Epoch')\r\n",
        "plt.legend(['Train', 'Validation'], loc='upper left')\r\n",
        "plt.show()\r\n",
        "# Plot loss\r\n",
        "plt.plot(malstm_trained.history['loss'])\r\n",
        "plt.plot(malstm_trained.history['val_loss'])\r\n",
        "plt.title('Model Loss')\r\n",
        "plt.ylabel('Loss')\r\n",
        "plt.xlabel('Epoch')\r\n",
        "plt.legend(['Train', 'Validation'], loc='upper right')\r\n",
        "plt.show()"
      ],
      "execution_count": 36,
      "outputs": [
        {
          "output_type": "display_data",
          "data": {
            "image/png": "[encoded data removed]",
            "text/plain": [
              "<Figure size 432x288 with 1 Axes>"
            ]
          },
          "metadata": {
            "tags": [],
            "needs_background": "light"
          }
        },
        {
          "output_type": "display_data",
          "data": {
            "image/png": "[encoded data removed]",
            "text/plain": [
              "<Figure size 432x288 with 1 Axes>"
            ]
          },
          "metadata": {
            "tags": [],
            "needs_background": "light"
          }
        }
      ]
    },
    {
      "cell_type": "code",
      "metadata": {
        "id": "jMctnptfdH79"
      },
      "source": [
        "# Load saved weights and then compile to make it ready for further training or predictions\r\n",
        "malstm.load_weights(\"gdrive/MyDrive/Kaggle/Quora_Q_Pairs/weights-improvement-06-0.82.hdf5\", by_name = True)\r\n",
        "model.compile(loss='mean_squared_error', optimizer='adam', metrics=['accuracy'])\r\n",
        "\r\n",
        "\r\n",
        "## Making predictions on validation set\r\n",
        "preds = malstm.predict([X_validation['left'], X_validation['right']])\r\n",
        "y_pred = [1 if x > 0.5 else 0 for x in preds] "
      ],
      "execution_count": 43,
      "outputs": []
    },
    {
      "cell_type": "code",
      "metadata": {
        "id": "aaA4ERPFej_j"
      },
      "source": [
        "TN = 0\r\n",
        "FN =0\r\n",
        "TP =0\r\n",
        "FP = 0\r\n",
        "\r\n",
        "for index in range(len(y_pred)):\r\n",
        "  if Y_validation[index] == 0:\r\n",
        "    if y_pred[index] == Y_validation[index]:\r\n",
        "      TN +=1\r\n",
        "    else:\r\n",
        "      FN +=1\r\n",
        "  else:\r\n",
        "    if y_pred[index] == Y_validation[index]:\r\n",
        "      TP +=1\r\n",
        "    else:\r\n",
        "      FP +=1"
      ],
      "execution_count": 57,
      "outputs": []
    },
    {
      "cell_type": "code",
      "metadata": {
        "colab": {
          "base_uri": "https://localhost:8080/"
        },
        "id": "q_XtYVB6fVGm",
        "outputId": "1865e34d-3488-4d90-e06e-a3aad7d572e6"
      },
      "source": [
        "TP,TN,FP,FN"
      ],
      "execution_count": 58,
      "outputs": [
        {
          "output_type": "execute_result",
          "data": {
            "text/plain": [
              "(10408, 22408, 4430, 2754)"
            ]
          },
          "metadata": {
            "tags": []
          },
          "execution_count": 58
        }
      ]
    },
    {
      "cell_type": "code",
      "metadata": {
        "colab": {
          "base_uri": "https://localhost:8080/"
        },
        "id": "SqZC97T2fYt4",
        "outputId": "af5b4ad4-dd9a-4d04-8abc-66d54a106f53"
      },
      "source": [
        "Precision = (TP)/(TP+FP)\r\n",
        "Recall = (TP)/(TP+FN)\r\n",
        "Precision,Recall"
      ],
      "execution_count": 59,
      "outputs": [
        {
          "output_type": "execute_result",
          "data": {
            "text/plain": [
              "(0.7014422428898773, 0.7907612824798663)"
            ]
          },
          "metadata": {
            "tags": []
          },
          "execution_count": 59
        }
      ]
    }
  ]
}